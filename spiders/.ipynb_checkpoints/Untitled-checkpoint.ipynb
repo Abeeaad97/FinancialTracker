{
 "cells": [
  {
   "cell_type": "code",
   "execution_count": null,
   "metadata": {},
   "outputs": [],
   "source": [
    "import requests\n",
    "from bs4 import BeautifulSoup\n",
    "import csv\n",
    "import pandas as pd\n",
    "\n",
    "# Data Table\n",
    "names=[]\n",
    "prices=[]\n",
    "changes=[]\n",
    "percentChanges=[]\n",
    "marketCaps=[]\n",
    "totalVolumes=[]\n",
    "circulatingSupplys=[]\n",
    "\n",
    "# URL to scrape data from\n",
    "CryptoCurrenciesUrl = \"https://finance.yahoo.com/currencies\"\n",
    "\n",
    "# Send a GET request to retrieve html\n",
    "r = requests.get(CryptoCurrenciesUrl)\n",
    "data = r.text\n",
    "\n",
    "# Load the data into soup\n",
    "soup = BeautifulSoup(data, 'lxml')\n",
    "\n",
    "# For Loop - Yahoo Finance requires us to crawl through data-id attributes\n",
    "# the range was determined by their specific pattern of id increments\n",
    "for index in range(40, 404, 14):\n",
    "    # For Loop - grab each listing row and extract the data individually\n",
    "    for listing in soup.find_all('tr', attrs={'data-reactid':index}):\n",
    "        for name in listing.find_all('td', attrs={'data-reactid':index+3}):\n",
    "            names.append(name.text)\n",
    "        for price in listing.find_all('td', attrs={'data-reactid':index+4}):\n",
    "            prices.append(price.text)\n",
    "        for change in listing.find_all('td', attrs={'data-reactid':index+5}):\n",
    "            changes.append(change.text)\n",
    "        for percentChange in listing.find_all('td', attrs={'data-reactid':index+7}):\n",
    "            percentChanges.append(percentChange.text)\n",
    "\n",
    "# Create a dataframe with the pandas library to view results on Jupyter\n",
    "pd.DataFrame({\"Names\": names, \"Prices\": prices, \"Change\": changes, \"% Change\": percentChanges})\n"
   ]
  }
 ],
 "metadata": {
  "kernelspec": {
   "display_name": "Python 3",
   "language": "python",
   "name": "python3"
  },
  "language_info": {
   "codemirror_mode": {
    "name": "ipython",
    "version": 3
   },
   "file_extension": ".py",
   "mimetype": "text/x-python",
   "name": "python",
   "nbconvert_exporter": "python",
   "pygments_lexer": "ipython3",
   "version": "3.8.1"
  }
 },
 "nbformat": 4,
 "nbformat_minor": 4
}
